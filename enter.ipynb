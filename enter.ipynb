{
 "cells": [
  {
   "cell_type": "code",
   "execution_count": 1,
   "metadata": {},
   "outputs": [],
   "source": [
    "import pandas as pd"
   ]
  },
  {
   "cell_type": "code",
   "execution_count": 15,
   "metadata": {},
   "outputs": [
    {
     "data": {
      "text/html": [
       "<div>\n",
       "<style scoped>\n",
       "    .dataframe tbody tr th:only-of-type {\n",
       "        vertical-align: middle;\n",
       "    }\n",
       "\n",
       "    .dataframe tbody tr th {\n",
       "        vertical-align: top;\n",
       "    }\n",
       "\n",
       "    .dataframe thead th {\n",
       "        text-align: right;\n",
       "    }\n",
       "</style>\n",
       "<table border=\"1\" class=\"dataframe\">\n",
       "  <thead>\n",
       "    <tr style=\"text-align: right;\">\n",
       "      <th></th>\n",
       "      <th>Id</th>\n",
       "      <th>Titles</th>\n",
       "      <th>Category</th>\n",
       "      <th>Reviews</th>\n",
       "    </tr>\n",
       "  </thead>\n",
       "  <tbody>\n",
       "    <tr>\n",
       "      <th>0</th>\n",
       "      <td>6973</td>\n",
       "      <td>Toy Story (1995)</td>\n",
       "      <td>Drama, Romance, School, Supernatural</td>\n",
       "      <td>-8.98</td>\n",
       "    </tr>\n",
       "    <tr>\n",
       "      <th>1</th>\n",
       "      <td>6778</td>\n",
       "      <td>Jumanji (1995)</td>\n",
       "      <td>Action, Adventure, Drama, Fantasy, Magic, Mili...</td>\n",
       "      <td>8.88</td>\n",
       "    </tr>\n",
       "    <tr>\n",
       "      <th>2</th>\n",
       "      <td>9702</td>\n",
       "      <td>Grumpier Old Men (1995)</td>\n",
       "      <td>Action, Comedy, Historical, Parody, Samurai, S...</td>\n",
       "      <td>99.00</td>\n",
       "    </tr>\n",
       "    <tr>\n",
       "      <th>3</th>\n",
       "      <td>6769</td>\n",
       "      <td>Waiting to Exhale (1995)</td>\n",
       "      <td>Sci-Fi, Thriller</td>\n",
       "      <td>99.00</td>\n",
       "    </tr>\n",
       "    <tr>\n",
       "      <th>4</th>\n",
       "      <td>1123</td>\n",
       "      <td>Father of the Bride Part II (1995)</td>\n",
       "      <td>Action, Comedy, Historical, Parody, Samurai, S...</td>\n",
       "      <td>-0.44</td>\n",
       "    </tr>\n",
       "    <tr>\n",
       "      <th>5</th>\n",
       "      <td>9860</td>\n",
       "      <td>Heat (1995)</td>\n",
       "      <td>Comedy, Drama, School, Shounen, Sports</td>\n",
       "      <td>-6.65</td>\n",
       "    </tr>\n",
       "    <tr>\n",
       "      <th>6</th>\n",
       "      <td>1803</td>\n",
       "      <td>Sabrina (1995)</td>\n",
       "      <td>Action, Adventure, Shounen, Super Power</td>\n",
       "      <td>99.00</td>\n",
       "    </tr>\n",
       "    <tr>\n",
       "      <th>7</th>\n",
       "      <td>9721</td>\n",
       "      <td>Tom and Huck (1995)</td>\n",
       "      <td>Drama, Military, Sci-Fi, Space</td>\n",
       "      <td>-5.19</td>\n",
       "    </tr>\n",
       "    <tr>\n",
       "      <th>8</th>\n",
       "      <td>6563</td>\n",
       "      <td>Sudden Death (1995)</td>\n",
       "      <td>Action, Comedy, Historical, Parody, Samurai, S...</td>\n",
       "      <td>-7.86</td>\n",
       "    </tr>\n",
       "    <tr>\n",
       "      <th>9</th>\n",
       "      <td>1323</td>\n",
       "      <td>GoldenEye (1995)</td>\n",
       "      <td>Action, Comedy, Historical, Parody, Samurai, S...</td>\n",
       "      <td>3.01</td>\n",
       "    </tr>\n",
       "    <tr>\n",
       "      <th>10</th>\n",
       "      <td>7889</td>\n",
       "      <td>American President, The (1995)</td>\n",
       "      <td>Drama, Fantasy, Romance, Slice of Life, Supern...</td>\n",
       "      <td>99.00</td>\n",
       "    </tr>\n",
       "    <tr>\n",
       "      <th>11</th>\n",
       "      <td>7650</td>\n",
       "      <td>Dracula: Dead and Loving It (1995)</td>\n",
       "      <td>Drama, School, Shounen</td>\n",
       "      <td>-7.23</td>\n",
       "    </tr>\n",
       "    <tr>\n",
       "      <th>12</th>\n",
       "      <td>5467</td>\n",
       "      <td>Balto (1995)</td>\n",
       "      <td>Action, Comedy, Historical, Parody, Samurai, S...</td>\n",
       "      <td>99.00</td>\n",
       "    </tr>\n",
       "    <tr>\n",
       "      <th>13</th>\n",
       "      <td>7451</td>\n",
       "      <td>Nixon (1995)</td>\n",
       "      <td>Action, Drama, Mecha, Military, Sci-Fi, Super ...</td>\n",
       "      <td>5.97</td>\n",
       "    </tr>\n",
       "    <tr>\n",
       "      <th>14</th>\n",
       "      <td>5898</td>\n",
       "      <td>Cutthroat Island (1995)</td>\n",
       "      <td>Comedy, Drama, School, Shounen, Sports</td>\n",
       "      <td>-5.92</td>\n",
       "    </tr>\n",
       "    <tr>\n",
       "      <th>15</th>\n",
       "      <td>7355</td>\n",
       "      <td>Casino (1995)</td>\n",
       "      <td>Adventure, Drama, Supernatural</td>\n",
       "      <td>2.91</td>\n",
       "    </tr>\n",
       "    <tr>\n",
       "      <th>16</th>\n",
       "      <td>6791</td>\n",
       "      <td>Sense and Sensibility (1995)</td>\n",
       "      <td>Drama, Music, Romance, School, Shounen</td>\n",
       "      <td>99.00</td>\n",
       "    </tr>\n",
       "    <tr>\n",
       "      <th>17</th>\n",
       "      <td>8574</td>\n",
       "      <td>Four Rooms (1995)</td>\n",
       "      <td>Adventure, Fantasy, Historical, Mystery, Seine...</td>\n",
       "      <td>0.53</td>\n",
       "    </tr>\n",
       "    <tr>\n",
       "      <th>18</th>\n",
       "      <td>9679</td>\n",
       "      <td>Ace Ventura: When Nature Calls (1995)</td>\n",
       "      <td>Fantasy, Slice of Life</td>\n",
       "      <td>99.00</td>\n",
       "    </tr>\n",
       "    <tr>\n",
       "      <th>19</th>\n",
       "      <td>5465</td>\n",
       "      <td>Money Train (1995)</td>\n",
       "      <td>Action, Mecha, Military, School, Sci-Fi, Super...</td>\n",
       "      <td>99.00</td>\n",
       "    </tr>\n",
       "  </tbody>\n",
       "</table>\n",
       "</div>"
      ],
      "text/plain": [
       "      Id                                 Titles  \\\n",
       "0   6973                       Toy Story (1995)   \n",
       "1   6778                         Jumanji (1995)   \n",
       "2   9702                Grumpier Old Men (1995)   \n",
       "3   6769               Waiting to Exhale (1995)   \n",
       "4   1123     Father of the Bride Part II (1995)   \n",
       "5   9860                            Heat (1995)   \n",
       "6   1803                         Sabrina (1995)   \n",
       "7   9721                    Tom and Huck (1995)   \n",
       "8   6563                    Sudden Death (1995)   \n",
       "9   1323                       GoldenEye (1995)   \n",
       "10  7889         American President, The (1995)   \n",
       "11  7650     Dracula: Dead and Loving It (1995)   \n",
       "12  5467                           Balto (1995)   \n",
       "13  7451                           Nixon (1995)   \n",
       "14  5898                Cutthroat Island (1995)   \n",
       "15  7355                          Casino (1995)   \n",
       "16  6791           Sense and Sensibility (1995)   \n",
       "17  8574                      Four Rooms (1995)   \n",
       "18  9679  Ace Ventura: When Nature Calls (1995)   \n",
       "19  5465                     Money Train (1995)   \n",
       "\n",
       "                                             Category  Reviews  \n",
       "0                Drama, Romance, School, Supernatural    -8.98  \n",
       "1   Action, Adventure, Drama, Fantasy, Magic, Mili...     8.88  \n",
       "2   Action, Comedy, Historical, Parody, Samurai, S...    99.00  \n",
       "3                                    Sci-Fi, Thriller    99.00  \n",
       "4   Action, Comedy, Historical, Parody, Samurai, S...    -0.44  \n",
       "5              Comedy, Drama, School, Shounen, Sports    -6.65  \n",
       "6             Action, Adventure, Shounen, Super Power    99.00  \n",
       "7                      Drama, Military, Sci-Fi, Space    -5.19  \n",
       "8   Action, Comedy, Historical, Parody, Samurai, S...    -7.86  \n",
       "9   Action, Comedy, Historical, Parody, Samurai, S...     3.01  \n",
       "10  Drama, Fantasy, Romance, Slice of Life, Supern...    99.00  \n",
       "11                             Drama, School, Shounen    -7.23  \n",
       "12  Action, Comedy, Historical, Parody, Samurai, S...    99.00  \n",
       "13  Action, Drama, Mecha, Military, Sci-Fi, Super ...     5.97  \n",
       "14             Comedy, Drama, School, Shounen, Sports    -5.92  \n",
       "15                     Adventure, Drama, Supernatural     2.91  \n",
       "16             Drama, Music, Romance, School, Shounen    99.00  \n",
       "17  Adventure, Fantasy, Historical, Mystery, Seine...     0.53  \n",
       "18                             Fantasy, Slice of Life    99.00  \n",
       "19  Action, Mecha, Military, School, Sci-Fi, Super...    99.00  "
      ]
     },
     "execution_count": 15,
     "metadata": {},
     "output_type": "execute_result"
    }
   ],
   "source": [
    "data = pd.read_csv(\"F:\\data sci Assignment\\Recommendation Engine\\data set\\entertenment.csv\")\n",
    "data.head(20)"
   ]
  },
  {
   "cell_type": "code",
   "execution_count": 3,
   "metadata": {},
   "outputs": [
    {
     "data": {
      "text/plain": [
       "0                 Drama, Romance, School, Supernatural\n",
       "1    Action, Adventure, Drama, Fantasy, Magic, Mili...\n",
       "2    Action, Comedy, Historical, Parody, Samurai, S...\n",
       "3                                     Sci-Fi, Thriller\n",
       "4    Action, Comedy, Historical, Parody, Samurai, S...\n",
       "5               Comedy, Drama, School, Shounen, Sports\n",
       "6              Action, Adventure, Shounen, Super Power\n",
       "7                       Drama, Military, Sci-Fi, Space\n",
       "8    Action, Comedy, Historical, Parody, Samurai, S...\n",
       "9    Action, Comedy, Historical, Parody, Samurai, S...\n",
       "Name: Category, dtype: object"
      ]
     },
     "execution_count": 3,
     "metadata": {},
     "output_type": "execute_result"
    }
   ],
   "source": [
    "data.columns\n",
    "data['Category'].head(10)"
   ]
  },
  {
   "cell_type": "code",
   "execution_count": 4,
   "metadata": {},
   "outputs": [],
   "source": [
    "#based on category we shall find the similer movie\n",
    "from sklearn.feature_extraction.text import TfidfVectorizer"
   ]
  },
  {
   "cell_type": "code",
   "execution_count": 5,
   "metadata": {},
   "outputs": [],
   "source": [
    "# Creating a Tfidf Vectorizer to remove all stop words\n",
    "entern_tdf = TfidfVectorizer(stop_words = \"english\")"
   ]
  },
  {
   "cell_type": "code",
   "execution_count": 6,
   "metadata": {},
   "outputs": [
    {
     "data": {
      "text/plain": [
       "0"
      ]
     },
     "execution_count": 6,
     "metadata": {},
     "output_type": "execute_result"
    }
   ],
   "source": [
    "# replacing the NaN values in overview column with empty string\n",
    "data[\"Category\"].isnull().sum()"
   ]
  },
  {
   "cell_type": "code",
   "execution_count": 7,
   "metadata": {},
   "outputs": [
    {
     "data": {
      "text/plain": [
       "(51, 34)"
      ]
     },
     "execution_count": 7,
     "metadata": {},
     "output_type": "execute_result"
    }
   ],
   "source": [
    "#no null values\n",
    "enter_matrix = entern_tdf.fit_transform(data['Category'])   #Transform a count matrix to a normalized tf or tf-idf representation\n",
    "enter_matrix.shape\n"
   ]
  },
  {
   "cell_type": "code",
   "execution_count": 8,
   "metadata": {},
   "outputs": [],
   "source": [
    "from sklearn.metrics.pairwise import linear_kernel"
   ]
  },
  {
   "cell_type": "code",
   "execution_count": 9,
   "metadata": {},
   "outputs": [],
   "source": [
    "# Computing the cosine similarity on Tfidf matrix\n",
    "cosine_sim = linear_kernel(enter_matrix, enter_matrix)"
   ]
  },
  {
   "cell_type": "code",
   "execution_count": 10,
   "metadata": {},
   "outputs": [],
   "source": [
    "enter_index = pd.Series(data.index, index = data['Titles']).drop_duplicates()"
   ]
  },
  {
   "cell_type": "code",
   "execution_count": 13,
   "metadata": {},
   "outputs": [],
   "source": [
    "def get_recommendations(title, cosine_sim=cosine_sim):\n",
    "    rdx = enter_index[title]\n",
    "    cosine_scores = list(enumerate(cosine_sim[rdx]))\n",
    "    cosine_scores = sorted(cosine_scores, key=lambda x:x[1], reverse = True)\n",
    "    cosine_scores = cosine_scores[1:11]\n",
    "    enter_indic = [i[0] for i in cosine_scores]\n",
    "    return data['Titles'].iloc[enter_indic]"
   ]
  },
  {
   "cell_type": "code",
   "execution_count": 14,
   "metadata": {},
   "outputs": [
    {
     "data": {
      "text/plain": [
       "4                    Father of the Bride Part II (1995)\n",
       "8                                   Sudden Death (1995)\n",
       "9                                      GoldenEye (1995)\n",
       "12                                         Balto (1995)\n",
       "41                                    To Die For (1995)\n",
       "23                                        Powder (1995)\n",
       "29    Shanghai Triad (Yao a yao yao dao waipo qiao) ...\n",
       "22                                     Assassins (1995)\n",
       "42                 How to Make an American Quilt (1995)\n",
       "21                                       Copycat (1995)\n",
       "Name: Titles, dtype: object"
      ]
     },
     "execution_count": 14,
     "metadata": {},
     "output_type": "execute_result"
    }
   ],
   "source": [
    "get_recommendations('Grumpier Old Men (1995)')\n"
   ]
  },
  {
   "cell_type": "code",
   "execution_count": null,
   "metadata": {},
   "outputs": [],
   "source": []
  }
 ],
 "metadata": {
  "kernelspec": {
   "display_name": "Python 3",
   "language": "python",
   "name": "python3"
  },
  "language_info": {
   "codemirror_mode": {
    "name": "ipython",
    "version": 3
   },
   "file_extension": ".py",
   "mimetype": "text/x-python",
   "name": "python",
   "nbconvert_exporter": "python",
   "pygments_lexer": "ipython3",
   "version": "3.8.5"
  }
 },
 "nbformat": 4,
 "nbformat_minor": 4
}
